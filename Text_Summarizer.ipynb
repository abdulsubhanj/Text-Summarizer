{
  "nbformat": 4,
  "nbformat_minor": 0,
  "metadata": {
    "colab": {
      "name": "Text_Summarizer.ipynb",
      "provenance": [],
      "collapsed_sections": [],
      "mount_file_id": "1hoooW-1jg8r9_HYlLt0-3wXaFD0l-til",
      "authorship_tag": "ABX9TyPnd6NC45Y6vF0V3it3R6r7",
      "include_colab_link": true
    },
    "kernelspec": {
      "name": "python3",
      "display_name": "Python 3"
    },
    "accelerator": "GPU"
  },
  "cells": [
    {
      "cell_type": "markdown",
      "metadata": {
        "id": "view-in-github",
        "colab_type": "text"
      },
      "source": [
        "<a href=\"https://colab.research.google.com/github/abdulsubhanj/Text-Summarizer/blob/master/Text_Summarizer.ipynb\" target=\"_parent\"><img src=\"https://colab.research.google.com/assets/colab-badge.svg\" alt=\"Open In Colab\"/></a>"
      ]
    },
    {
      "cell_type": "code",
      "metadata": {
        "id": "HFLlG1EtFQQb",
        "colab_type": "code",
        "colab": {}
      },
      "source": [
        "!pip install tensorflow"
      ],
      "execution_count": 0,
      "outputs": []
    },
    {
      "cell_type": "code",
      "metadata": {
        "id": "smU6KzBOFeCo",
        "colab_type": "code",
        "colab": {}
      },
      "source": [
        "from attention import AttentionLayer"
      ],
      "execution_count": 0,
      "outputs": []
    },
    {
      "cell_type": "code",
      "metadata": {
        "id": "rh9IWPbZFmLu",
        "colab_type": "code",
        "colab": {
          "base_uri": "https://localhost:8080/",
          "height": 34
        },
        "outputId": "07a6bc32-c775-423d-8774-75c08df04356"
      },
      "source": [
        "import numpy as np\n",
        "import pandas as pd \n",
        "import re\n",
        "from bs4 import BeautifulSoup\n",
        "from keras.preprocessing.text import Tokenizer \n",
        "from keras.preprocessing.sequence import pad_sequences\n",
        "from nltk.corpus import stopwords\n",
        "from tensorflow.keras.layers import Input, LSTM, Embedding, Dense, Concatenate, TimeDistributed\n",
        "from tensorflow.keras.models import Model\n",
        "from tensorflow.keras.callbacks import EarlyStopping\n",
        "import warnings\n",
        "pd.set_option(\"display.max_colwidth\", 200)\n",
        "warnings.filterwarnings(\"ignore\")"
      ],
      "execution_count": 2,
      "outputs": [
        {
          "output_type": "stream",
          "text": [
            "Using TensorFlow backend.\n"
          ],
          "name": "stderr"
        }
      ]
    },
    {
      "cell_type": "code",
      "metadata": {
        "id": "tvOYmdwgFqnb",
        "colab_type": "code",
        "colab": {}
      },
      "source": [
        "data=pd.read_csv(\"/content/drive/My Drive/Colab Notebooks/Reviews.csv\",nrows=100000, engine='python')"
      ],
      "execution_count": 0,
      "outputs": []
    },
    {
      "cell_type": "code",
      "metadata": {
        "id": "iMgWXFPGFuvO",
        "colab_type": "code",
        "colab": {}
      },
      "source": [
        "data.drop_duplicates(subset=['Text'],inplace=True)#dropping duplicates\n",
        "data.dropna(axis=0,inplace=True)#dropping na"
      ],
      "execution_count": 0,
      "outputs": []
    },
    {
      "cell_type": "code",
      "metadata": {
        "id": "7ngP5ULfLUc4",
        "colab_type": "code",
        "colab": {
          "base_uri": "https://localhost:8080/",
          "height": 306
        },
        "outputId": "2bbf580d-6925-468c-b454-fe3cd6a72f19"
      },
      "source": [
        "data.info()"
      ],
      "execution_count": 5,
      "outputs": [
        {
          "output_type": "stream",
          "text": [
            "<class 'pandas.core.frame.DataFrame'>\n",
            "Int64Index: 88421 entries, 0 to 99999\n",
            "Data columns (total 10 columns):\n",
            " #   Column                  Non-Null Count  Dtype \n",
            "---  ------                  --------------  ----- \n",
            " 0   Id                      88421 non-null  int64 \n",
            " 1   ProductId               88421 non-null  object\n",
            " 2   UserId                  88421 non-null  object\n",
            " 3   ProfileName             88421 non-null  object\n",
            " 4   HelpfulnessNumerator    88421 non-null  int64 \n",
            " 5   HelpfulnessDenominator  88421 non-null  int64 \n",
            " 6   Score                   88421 non-null  int64 \n",
            " 7   Time                    88421 non-null  int64 \n",
            " 8   Summary                 88421 non-null  object\n",
            " 9   Text                    88421 non-null  object\n",
            "dtypes: int64(5), object(5)\n",
            "memory usage: 7.4+ MB\n"
          ],
          "name": "stdout"
        }
      ]
    },
    {
      "cell_type": "code",
      "metadata": {
        "id": "zuT7gYLjLWr0",
        "colab_type": "code",
        "colab": {}
      },
      "source": [
        "contraction_mapping = {\"ain't\": \"is not\", \"aren't\": \"are not\",\"can't\": \"cannot\", \"'cause\": \"because\", \"could've\": \"could have\", \"couldn't\": \"could not\",\n",
        "                           \"didn't\": \"did not\",  \"doesn't\": \"does not\", \"don't\": \"do not\", \"hadn't\": \"had not\", \"hasn't\": \"has not\", \"haven't\": \"have not\",\n",
        "                           \"he'd\": \"he would\",\"he'll\": \"he will\", \"he's\": \"he is\", \"how'd\": \"how did\", \"how'd'y\": \"how do you\", \"how'll\": \"how will\", \"how's\": \"how is\",\n",
        "                           \"I'd\": \"I would\", \"I'd've\": \"I would have\", \"I'll\": \"I will\", \"I'll've\": \"I will have\",\"I'm\": \"I am\", \"I've\": \"I have\", \"i'd\": \"i would\",\n",
        "                           \"i'd've\": \"i would have\", \"i'll\": \"i will\",  \"i'll've\": \"i will have\",\"i'm\": \"i am\", \"i've\": \"i have\", \"isn't\": \"is not\", \"it'd\": \"it would\",\n",
        "                           \"it'd've\": \"it would have\", \"it'll\": \"it will\", \"it'll've\": \"it will have\",\"it's\": \"it is\", \"let's\": \"let us\", \"ma'am\": \"madam\",\n",
        "                           \"mayn't\": \"may not\", \"might've\": \"might have\",\"mightn't\": \"might not\",\"mightn't've\": \"might not have\", \"must've\": \"must have\",\n",
        "                           \"mustn't\": \"must not\", \"mustn't've\": \"must not have\", \"needn't\": \"need not\", \"needn't've\": \"need not have\",\"o'clock\": \"of the clock\",\n",
        "                           \"oughtn't\": \"ought not\", \"oughtn't've\": \"ought not have\", \"shan't\": \"shall not\", \"sha'n't\": \"shall not\", \"shan't've\": \"shall not have\",\n",
        "                           \"she'd\": \"she would\", \"she'd've\": \"she would have\", \"she'll\": \"she will\", \"she'll've\": \"she will have\", \"she's\": \"she is\",\n",
        "                           \"should've\": \"should have\", \"shouldn't\": \"should not\", \"shouldn't've\": \"should not have\", \"so've\": \"so have\",\"so's\": \"so as\",\n",
        "                           \"this's\": \"this is\",\"that'd\": \"that would\", \"that'd've\": \"that would have\", \"that's\": \"that is\", \"there'd\": \"there would\",\n",
        "                           \"there'd've\": \"there would have\", \"there's\": \"there is\", \"here's\": \"here is\",\"they'd\": \"they would\", \"they'd've\": \"they would have\",\n",
        "                           \"they'll\": \"they will\", \"they'll've\": \"they will have\", \"they're\": \"they are\", \"they've\": \"they have\", \"to've\": \"to have\",\n",
        "                           \"wasn't\": \"was not\", \"we'd\": \"we would\", \"we'd've\": \"we would have\", \"we'll\": \"we will\", \"we'll've\": \"we will have\", \"we're\": \"we are\",\n",
        "                           \"we've\": \"we have\", \"weren't\": \"were not\", \"what'll\": \"what will\", \"what'll've\": \"what will have\", \"what're\": \"what are\",\n",
        "                           \"what's\": \"what is\", \"what've\": \"what have\", \"when's\": \"when is\", \"when've\": \"when have\", \"where'd\": \"where did\", \"where's\": \"where is\",\n",
        "                           \"where've\": \"where have\", \"who'll\": \"who will\", \"who'll've\": \"who will have\", \"who's\": \"who is\", \"who've\": \"who have\",\n",
        "                           \"why's\": \"why is\", \"why've\": \"why have\", \"will've\": \"will have\", \"won't\": \"will not\", \"won't've\": \"will not have\",\n",
        "                           \"would've\": \"would have\", \"wouldn't\": \"would not\", \"wouldn't've\": \"would not have\", \"y'all\": \"you all\",\n",
        "                           \"y'all'd\": \"you all would\",\"y'all'd've\": \"you all would have\",\"y'all're\": \"you all are\",\"y'all've\": \"you all have\",\n",
        "                           \"you'd\": \"you would\", \"you'd've\": \"you would have\", \"you'll\": \"you will\", \"you'll've\": \"you will have\",\n",
        "                           \"you're\": \"you are\", \"you've\": \"you have\"}"
      ],
      "execution_count": 0,
      "outputs": []
    },
    {
      "cell_type": "code",
      "metadata": {
        "id": "CSBUHMYpLipD",
        "colab_type": "code",
        "colab": {
          "base_uri": "https://localhost:8080/",
          "height": 306
        },
        "outputId": "850904d2-d337-4a0d-836a-ee99858df4fa"
      },
      "source": [
        "!python -m pip install --upgrade nltk"
      ],
      "execution_count": 18,
      "outputs": [
        {
          "output_type": "stream",
          "text": [
            "Collecting nltk\n",
            "\u001b[?25l  Downloading https://files.pythonhosted.org/packages/92/75/ce35194d8e3022203cca0d2f896dbb88689f9b3fce8e9f9cff942913519d/nltk-3.5.zip (1.4MB)\n",
            "\r\u001b[K     |▎                               | 10kB 19.7MB/s eta 0:00:01\r\u001b[K     |▌                               | 20kB 5.8MB/s eta 0:00:01\r\u001b[K     |▊                               | 30kB 7.0MB/s eta 0:00:01\r\u001b[K     |█                               | 40kB 7.7MB/s eta 0:00:01\r\u001b[K     |█▏                              | 51kB 6.4MB/s eta 0:00:01\r\u001b[K     |█▍                              | 61kB 6.9MB/s eta 0:00:01\r\u001b[K     |█▋                              | 71kB 7.4MB/s eta 0:00:01\r\u001b[K     |█▉                              | 81kB 7.9MB/s eta 0:00:01\r\u001b[K     |██                              | 92kB 7.4MB/s eta 0:00:01\r\u001b[K     |██▎                             | 102kB 7.7MB/s eta 0:00:01\r\u001b[K     |██▌                             | 112kB 7.7MB/s eta 0:00:01\r\u001b[K     |██▊                             | 122kB 7.7MB/s eta 0:00:01\r\u001b[K     |███                             | 133kB 7.7MB/s eta 0:00:01\r\u001b[K     |███▏                            | 143kB 7.7MB/s eta 0:00:01\r\u001b[K     |███▍                            | 153kB 7.7MB/s eta 0:00:01\r\u001b[K     |███▋                            | 163kB 7.7MB/s eta 0:00:01\r\u001b[K     |███▉                            | 174kB 7.7MB/s eta 0:00:01\r\u001b[K     |████▏                           | 184kB 7.7MB/s eta 0:00:01\r\u001b[K     |████▍                           | 194kB 7.7MB/s eta 0:00:01\r\u001b[K     |████▋                           | 204kB 7.7MB/s eta 0:00:01\r\u001b[K     |████▉                           | 215kB 7.7MB/s eta 0:00:01\r\u001b[K     |█████                           | 225kB 7.7MB/s eta 0:00:01\r\u001b[K     |█████▎                          | 235kB 7.7MB/s eta 0:00:01\r\u001b[K     |█████▌                          | 245kB 7.7MB/s eta 0:00:01\r\u001b[K     |█████▊                          | 256kB 7.7MB/s eta 0:00:01\r\u001b[K     |██████                          | 266kB 7.7MB/s eta 0:00:01\r\u001b[K     |██████▏                         | 276kB 7.7MB/s eta 0:00:01\r\u001b[K     |██████▍                         | 286kB 7.7MB/s eta 0:00:01\r\u001b[K     |██████▋                         | 296kB 7.7MB/s eta 0:00:01\r\u001b[K     |██████▉                         | 307kB 7.7MB/s eta 0:00:01\r\u001b[K     |███████                         | 317kB 7.7MB/s eta 0:00:01\r\u001b[K     |███████▎                        | 327kB 7.7MB/s eta 0:00:01\r\u001b[K     |███████▌                        | 337kB 7.7MB/s eta 0:00:01\r\u001b[K     |███████▊                        | 348kB 7.7MB/s eta 0:00:01\r\u001b[K     |████████                        | 358kB 7.7MB/s eta 0:00:01\r\u001b[K     |████████▎                       | 368kB 7.7MB/s eta 0:00:01\r\u001b[K     |████████▌                       | 378kB 7.7MB/s eta 0:00:01\r\u001b[K     |████████▊                       | 389kB 7.7MB/s eta 0:00:01\r\u001b[K     |█████████                       | 399kB 7.7MB/s eta 0:00:01\r\u001b[K     |█████████▏                      | 409kB 7.7MB/s eta 0:00:01\r\u001b[K     |█████████▍                      | 419kB 7.7MB/s eta 0:00:01\r\u001b[K     |█████████▋                      | 430kB 7.7MB/s eta 0:00:01\r\u001b[K     |█████████▉                      | 440kB 7.7MB/s eta 0:00:01\r\u001b[K     |██████████                      | 450kB 7.7MB/s eta 0:00:01\r\u001b[K     |██████████▎                     | 460kB 7.7MB/s eta 0:00:01\r\u001b[K     |██████████▌                     | 471kB 7.7MB/s eta 0:00:01\r\u001b[K     |██████████▊                     | 481kB 7.7MB/s eta 0:00:01\r\u001b[K     |███████████                     | 491kB 7.7MB/s eta 0:00:01\r\u001b[K     |███████████▏                    | 501kB 7.7MB/s eta 0:00:01\r\u001b[K     |███████████▍                    | 512kB 7.7MB/s eta 0:00:01\r\u001b[K     |███████████▋                    | 522kB 7.7MB/s eta 0:00:01\r\u001b[K     |███████████▉                    | 532kB 7.7MB/s eta 0:00:01\r\u001b[K     |████████████▏                   | 542kB 7.7MB/s eta 0:00:01\r\u001b[K     |████████████▍                   | 552kB 7.7MB/s eta 0:00:01\r\u001b[K     |████████████▋                   | 563kB 7.7MB/s eta 0:00:01\r\u001b[K     |████████████▉                   | 573kB 7.7MB/s eta 0:00:01\r\u001b[K     |█████████████                   | 583kB 7.7MB/s eta 0:00:01\r\u001b[K     |█████████████▎                  | 593kB 7.7MB/s eta 0:00:01\r\u001b[K     |█████████████▌                  | 604kB 7.7MB/s eta 0:00:01\r\u001b[K     |█████████████▊                  | 614kB 7.7MB/s eta 0:00:01\r\u001b[K     |██████████████                  | 624kB 7.7MB/s eta 0:00:01\r\u001b[K     |██████████████▏                 | 634kB 7.7MB/s eta 0:00:01\r\u001b[K     |██████████████▍                 | 645kB 7.7MB/s eta 0:00:01\r\u001b[K     |██████████████▋                 | 655kB 7.7MB/s eta 0:00:01\r\u001b[K     |██████████████▉                 | 665kB 7.7MB/s eta 0:00:01\r\u001b[K     |███████████████                 | 675kB 7.7MB/s eta 0:00:01\r\u001b[K     |███████████████▎                | 686kB 7.7MB/s eta 0:00:01\r\u001b[K     |███████████████▌                | 696kB 7.7MB/s eta 0:00:01\r\u001b[K     |███████████████▊                | 706kB 7.7MB/s eta 0:00:01\r\u001b[K     |████████████████                | 716kB 7.7MB/s eta 0:00:01\r\u001b[K     |████████████████▎               | 727kB 7.7MB/s eta 0:00:01\r\u001b[K     |████████████████▌               | 737kB 7.7MB/s eta 0:00:01\r\u001b[K     |████████████████▊               | 747kB 7.7MB/s eta 0:00:01\r\u001b[K     |█████████████████               | 757kB 7.7MB/s eta 0:00:01\r\u001b[K     |█████████████████▏              | 768kB 7.7MB/s eta 0:00:01\r\u001b[K     |█████████████████▍              | 778kB 7.7MB/s eta 0:00:01\r\u001b[K     |█████████████████▋              | 788kB 7.7MB/s eta 0:00:01\r\u001b[K     |█████████████████▉              | 798kB 7.7MB/s eta 0:00:01\r\u001b[K     |██████████████████              | 808kB 7.7MB/s eta 0:00:01\r\u001b[K     |██████████████████▎             | 819kB 7.7MB/s eta 0:00:01\r\u001b[K     |██████████████████▌             | 829kB 7.7MB/s eta 0:00:01\r\u001b[K     |██████████████████▊             | 839kB 7.7MB/s eta 0:00:01\r\u001b[K     |███████████████████             | 849kB 7.7MB/s eta 0:00:01\r\u001b[K     |███████████████████▏            | 860kB 7.7MB/s eta 0:00:01\r\u001b[K     |███████████████████▍            | 870kB 7.7MB/s eta 0:00:01\r\u001b[K     |███████████████████▋            | 880kB 7.7MB/s eta 0:00:01\r\u001b[K     |███████████████████▉            | 890kB 7.7MB/s eta 0:00:01\r\u001b[K     |████████████████████▏           | 901kB 7.7MB/s eta 0:00:01\r\u001b[K     |████████████████████▍           | 911kB 7.7MB/s eta 0:00:01\r\u001b[K     |████████████████████▋           | 921kB 7.7MB/s eta 0:00:01\r\u001b[K     |████████████████████▉           | 931kB 7.7MB/s eta 0:00:01\r\u001b[K     |█████████████████████           | 942kB 7.7MB/s eta 0:00:01\r\u001b[K     |█████████████████████▎          | 952kB 7.7MB/s eta 0:00:01\r\u001b[K     |█████████████████████▌          | 962kB 7.7MB/s eta 0:00:01\r\u001b[K     |█████████████████████▊          | 972kB 7.7MB/s eta 0:00:01\r\u001b[K     |██████████████████████          | 983kB 7.7MB/s eta 0:00:01\r\u001b[K     |██████████████████████▏         | 993kB 7.7MB/s eta 0:00:01\r\u001b[K     |██████████████████████▍         | 1.0MB 7.7MB/s eta 0:00:01\r\u001b[K     |██████████████████████▋         | 1.0MB 7.7MB/s eta 0:00:01\r\u001b[K     |██████████████████████▉         | 1.0MB 7.7MB/s eta 0:00:01\r\u001b[K     |███████████████████████         | 1.0MB 7.7MB/s eta 0:00:01\r\u001b[K     |███████████████████████▎        | 1.0MB 7.7MB/s eta 0:00:01\r\u001b[K     |███████████████████████▌        | 1.1MB 7.7MB/s eta 0:00:01\r\u001b[K     |███████████████████████▊        | 1.1MB 7.7MB/s eta 0:00:01\r\u001b[K     |████████████████████████        | 1.1MB 7.7MB/s eta 0:00:01\r\u001b[K     |████████████████████████▎       | 1.1MB 7.7MB/s eta 0:00:01\r\u001b[K     |████████████████████████▌       | 1.1MB 7.7MB/s eta 0:00:01\r\u001b[K     |████████████████████████▊       | 1.1MB 7.7MB/s eta 0:00:01\r\u001b[K     |█████████████████████████       | 1.1MB 7.7MB/s eta 0:00:01\r\u001b[K     |█████████████████████████▏      | 1.1MB 7.7MB/s eta 0:00:01\r\u001b[K     |█████████████████████████▍      | 1.1MB 7.7MB/s eta 0:00:01\r\u001b[K     |█████████████████████████▋      | 1.1MB 7.7MB/s eta 0:00:01\r\u001b[K     |█████████████████████████▉      | 1.2MB 7.7MB/s eta 0:00:01\r\u001b[K     |██████████████████████████      | 1.2MB 7.7MB/s eta 0:00:01\r\u001b[K     |██████████████████████████▎     | 1.2MB 7.7MB/s eta 0:00:01\r\u001b[K     |██████████████████████████▌     | 1.2MB 7.7MB/s eta 0:00:01\r\u001b[K     |██████████████████████████▊     | 1.2MB 7.7MB/s eta 0:00:01\r\u001b[K     |███████████████████████████     | 1.2MB 7.7MB/s eta 0:00:01\r\u001b[K     |███████████████████████████▏    | 1.2MB 7.7MB/s eta 0:00:01\r\u001b[K     |███████████████████████████▍    | 1.2MB 7.7MB/s eta 0:00:01\r\u001b[K     |███████████████████████████▋    | 1.2MB 7.7MB/s eta 0:00:01\r\u001b[K     |███████████████████████████▉    | 1.2MB 7.7MB/s eta 0:00:01\r\u001b[K     |████████████████████████████▏   | 1.3MB 7.7MB/s eta 0:00:01\r\u001b[K     |████████████████████████████▍   | 1.3MB 7.7MB/s eta 0:00:01\r\u001b[K     |████████████████████████████▋   | 1.3MB 7.7MB/s eta 0:00:01\r\u001b[K     |████████████████████████████▉   | 1.3MB 7.7MB/s eta 0:00:01\r\u001b[K     |█████████████████████████████   | 1.3MB 7.7MB/s eta 0:00:01\r\u001b[K     |█████████████████████████████▎  | 1.3MB 7.7MB/s eta 0:00:01\r\u001b[K     |█████████████████████████████▌  | 1.3MB 7.7MB/s eta 0:00:01\r\u001b[K     |█████████████████████████████▊  | 1.3MB 7.7MB/s eta 0:00:01\r\u001b[K     |██████████████████████████████  | 1.3MB 7.7MB/s eta 0:00:01\r\u001b[K     |██████████████████████████████▏ | 1.4MB 7.7MB/s eta 0:00:01\r\u001b[K     |██████████████████████████████▍ | 1.4MB 7.7MB/s eta 0:00:01\r\u001b[K     |██████████████████████████████▋ | 1.4MB 7.7MB/s eta 0:00:01\r\u001b[K     |██████████████████████████████▉ | 1.4MB 7.7MB/s eta 0:00:01\r\u001b[K     |███████████████████████████████ | 1.4MB 7.7MB/s eta 0:00:01\r\u001b[K     |███████████████████████████████▎| 1.4MB 7.7MB/s eta 0:00:01\r\u001b[K     |███████████████████████████████▌| 1.4MB 7.7MB/s eta 0:00:01\r\u001b[K     |███████████████████████████████▊| 1.4MB 7.7MB/s eta 0:00:01\r\u001b[K     |████████████████████████████████| 1.4MB 7.7MB/s \n",
            "\u001b[?25hRequirement already satisfied, skipping upgrade: click in /usr/local/lib/python3.6/dist-packages (from nltk) (7.1.2)\n",
            "Requirement already satisfied, skipping upgrade: joblib in /usr/local/lib/python3.6/dist-packages (from nltk) (0.15.0)\n",
            "Requirement already satisfied, skipping upgrade: regex in /usr/local/lib/python3.6/dist-packages (from nltk) (2019.12.20)\n",
            "Requirement already satisfied, skipping upgrade: tqdm in /usr/local/lib/python3.6/dist-packages (from nltk) (4.41.1)\n",
            "Building wheels for collected packages: nltk\n",
            "  Building wheel for nltk (setup.py) ... \u001b[?25l\u001b[?25hdone\n",
            "  Created wheel for nltk: filename=nltk-3.5-cp36-none-any.whl size=1434673 sha256=87bacb07dc5bbec470cf12c3eda3bd9b5521f64ad5123c7c252d1fef221fcd3a\n",
            "  Stored in directory: /root/.cache/pip/wheels/ae/8c/3f/b1fe0ba04555b08b57ab52ab7f86023639a526d8bc8d384306\n",
            "Successfully built nltk\n",
            "Installing collected packages: nltk\n",
            "  Found existing installation: nltk 3.2.5\n",
            "    Uninstalling nltk-3.2.5:\n",
            "      Successfully uninstalled nltk-3.2.5\n",
            "Successfully installed nltk-3.5\n"
          ],
          "name": "stdout"
        }
      ]
    },
    {
      "cell_type": "code",
      "metadata": {
        "id": "k2KDndObMAZM",
        "colab_type": "code",
        "colab": {
          "base_uri": "https://localhost:8080/",
          "height": 68
        },
        "outputId": "6daa1ef4-9bad-4603-f59b-4decefc768ea"
      },
      "source": [
        "import nltk\n",
        "nltk.download(\"stopwords\")"
      ],
      "execution_count": 7,
      "outputs": [
        {
          "output_type": "stream",
          "text": [
            "[nltk_data] Downloading package stopwords to /root/nltk_data...\n",
            "[nltk_data]   Unzipping corpora/stopwords.zip.\n"
          ],
          "name": "stdout"
        },
        {
          "output_type": "execute_result",
          "data": {
            "text/plain": [
              "True"
            ]
          },
          "metadata": {
            "tags": []
          },
          "execution_count": 7
        }
      ]
    },
    {
      "cell_type": "code",
      "metadata": {
        "id": "PK5Tn7FYLak8",
        "colab_type": "code",
        "colab": {}
      },
      "source": [
        "stop_words = set(stopwords.words('english')) \n",
        "\n",
        "def text_cleaner(text,num):\n",
        "    newString = text.lower()\n",
        "    newString = BeautifulSoup(newString, \"lxml\").text\n",
        "    newString = re.sub(r'\\([^)]*\\)', '', newString)\n",
        "    newString = re.sub('\"','', newString)\n",
        "    newString = ' '.join([contraction_mapping[t] if t in contraction_mapping else t for t in newString.split(\" \")])    \n",
        "    newString = re.sub(r\"'s\\b\",\"\",newString)\n",
        "    newString = re.sub(\"[^a-zA-Z]\", \" \", newString) \n",
        "    newString = re.sub('[m]{2,}', 'mm', newString)\n",
        "    if(num==0):\n",
        "        tokens = [w for w in newString.split() if not w in stop_words]\n",
        "    else:\n",
        "        tokens=newString.split()\n",
        "    long_words=[]\n",
        "    for i in tokens:\n",
        "        if len(i)>1:                                                 #removing short word\n",
        "            long_words.append(i)   \n",
        "    return (\" \".join(long_words)).strip()"
      ],
      "execution_count": 0,
      "outputs": []
    },
    {
      "cell_type": "code",
      "metadata": {
        "id": "7egATaEsLeck",
        "colab_type": "code",
        "colab": {}
      },
      "source": [
        "#call the function\n",
        "cleaned_text = []\n",
        "for t in data['Text']:\n",
        "    cleaned_text.append(text_cleaner(t,0)) "
      ],
      "execution_count": 0,
      "outputs": []
    },
    {
      "cell_type": "code",
      "metadata": {
        "id": "GbqyaDfmMKbc",
        "colab_type": "code",
        "colab": {}
      },
      "source": [
        "#call the function\n",
        "cleaned_summary = []\n",
        "for t in data['Summary']:\n",
        "    cleaned_summary.append(text_cleaner(t,1))"
      ],
      "execution_count": 0,
      "outputs": []
    },
    {
      "cell_type": "code",
      "metadata": {
        "id": "lD0kD4REMbWU",
        "colab_type": "code",
        "colab": {}
      },
      "source": [
        "data['cleaned_text']=cleaned_text\n",
        "data['cleaned_summary']=cleaned_summary"
      ],
      "execution_count": 0,
      "outputs": []
    },
    {
      "cell_type": "code",
      "metadata": {
        "id": "4mLElL0bMkwa",
        "colab_type": "code",
        "colab": {}
      },
      "source": [
        "data.replace('', np.nan, inplace=True)\n",
        "data.dropna(axis=0,inplace=True)"
      ],
      "execution_count": 0,
      "outputs": []
    },
    {
      "cell_type": "code",
      "metadata": {
        "id": "-E5-kvXuMn4M",
        "colab_type": "code",
        "colab": {
          "base_uri": "https://localhost:8080/",
          "height": 281
        },
        "outputId": "a0300d53-0f22-4cf0-fae9-81eb796ff99d"
      },
      "source": [
        "import matplotlib.pyplot as plt\n",
        "\n",
        "text_word_count = []\n",
        "summary_word_count = []\n",
        "\n",
        "# populate the lists with sentence lengths\n",
        "for i in data['cleaned_text']:\n",
        "      text_word_count.append(len(i.split()))\n",
        "\n",
        "for i in data['cleaned_summary']:\n",
        "      summary_word_count.append(len(i.split()))\n",
        "\n",
        "length_df = pd.DataFrame({'text':text_word_count, 'summary':summary_word_count})\n",
        "\n",
        "length_df.hist(bins = 30)\n",
        "plt.show()"
      ],
      "execution_count": 13,
      "outputs": [
        {
          "output_type": "display_data",
          "data": {
            "image/png": "[encoded data removed]",
            "text/plain": [
              "<Figure size 432x288 with 2 Axes>"
            ]
          },
          "metadata": {
            "tags": [],
            "needs_background": "light"
          }
        }
      ]
    },
    {
      "cell_type": "code",
      "metadata": {
        "id": "LK-YMDfFMqtc",
        "colab_type": "code",
        "colab": {
          "base_uri": "https://localhost:8080/",
          "height": 34
        },
        "outputId": "65a88bea-8918-4cb9-9b58-5b4995778f1b"
      },
      "source": [
        "cnt=0\n",
        "for i in data['cleaned_summary']:\n",
        "    if(len(i.split())<=8):\n",
        "        cnt=cnt+1\n",
        "print(cnt/len(data['cleaned_summary']))"
      ],
      "execution_count": 14,
      "outputs": [
        {
          "output_type": "stream",
          "text": [
            "0.9424907471335922\n"
          ],
          "name": "stdout"
        }
      ]
    },
    {
      "cell_type": "code",
      "metadata": {
        "id": "xztc3FxhM3IU",
        "colab_type": "code",
        "colab": {}
      },
      "source": [
        "max_text_len=30\n",
        "max_summary_len=8"
      ],
      "execution_count": 0,
      "outputs": []
    },
    {
      "cell_type": "code",
      "metadata": {
        "id": "iDscQqUgM6F5",
        "colab_type": "code",
        "colab": {}
      },
      "source": [
        "cleaned_text =np.array(data['cleaned_text'])\n",
        "cleaned_summary=np.array(data['cleaned_summary'])\n",
        "\n",
        "short_text=[]\n",
        "short_summary=[]\n",
        "\n",
        "for i in range(len(cleaned_text)):\n",
        "    if(len(cleaned_summary[i].split())<=max_summary_len and len(cleaned_text[i].split())<=max_text_len):\n",
        "        short_text.append(cleaned_text[i])\n",
        "        short_summary.append(cleaned_summary[i])\n",
        "        \n",
        "df=pd.DataFrame({'text':short_text,'summary':short_summary})"
      ],
      "execution_count": 0,
      "outputs": []
    },
    {
      "cell_type": "code",
      "metadata": {
        "id": "XNLDLDGEM9GE",
        "colab_type": "code",
        "colab": {
          "base_uri": "https://localhost:8080/",
          "height": 221
        },
        "outputId": "302d0547-3139-47a5-f062-8fb74b58630e"
      },
      "source": [
        "df['summary'] = df['summary'].apply(lambda x : 'sostok '+ x + ' eostok')"
      ],
      "execution_count": 58,
      "outputs": [
        {
          "output_type": "execute_result",
          "data": {
            "text/plain": [
              "0                             sostok good quality dog food eostok\n",
              "1                                 sostok not as advertised eostok\n",
              "2                                    sostok cough medicine eostok\n",
              "3                                       sostok great taffy eostok\n",
              "4        sostok great just as good as the expensive brands eostok\n",
              "                                   ...                           \n",
              "47165                                   sostok great stuff eostok\n",
              "47166                                    sostok good stuff eostok\n",
              "47167                                         sostok yummy eostok\n",
              "47168                                   sostok great ramen eostok\n",
              "47169                                         sostok spicy eostok\n",
              "Name: summary, Length: 47170, dtype: object"
            ]
          },
          "metadata": {
            "tags": []
          },
          "execution_count": 58
        }
      ]
    },
    {
      "cell_type": "code",
      "metadata": {
        "id": "cUQ0W6jsNEIB",
        "colab_type": "code",
        "colab": {}
      },
      "source": [
        "from sklearn.model_selection import train_test_split\n",
        "x_tr,x_val,y_tr,y_val=train_test_split(np.array(df['text']),np.array(df['summary']),test_size=0.1,random_state=0,shuffle=True)"
      ],
      "execution_count": 0,
      "outputs": []
    },
    {
      "cell_type": "code",
      "metadata": {
        "id": "X079bug940NK",
        "colab_type": "code",
        "colab": {
          "base_uri": "https://localhost:8080/",
          "height": 136
        },
        "outputId": "4b568bed-9c6e-4659-989b-ceacdb2ed4a2"
      },
      "source": [
        "print(x_tr)"
      ],
      "execution_count": 54,
      "outputs": [
        {
          "output_type": "stream",
          "text": [
            "[[ 299  576 1490 ...    0    0    0]\n",
            " [  62    1  639 ...    0    0    0]\n",
            " [   9   12  237 ...    0    0    0]\n",
            " ...\n",
            " [   3  282  236 ...    0    0    0]\n",
            " [  68  160  412 ...    0    0    0]\n",
            " [5248   24  122 ...    0    0    0]]\n"
          ],
          "name": "stdout"
        }
      ]
    },
    {
      "cell_type": "code",
      "metadata": {
        "id": "wdoH7eGnNJLj",
        "colab_type": "code",
        "colab": {}
      },
      "source": [
        "from keras.preprocessing.text import Tokenizer \n",
        "from keras.preprocessing.sequence import pad_sequences\n",
        "\n",
        "#prepare a tokenizer for reviews on training data\n",
        "x_tokenizer = Tokenizer() \n",
        "x_tokenizer.fit_on_texts(list(x_tr))"
      ],
      "execution_count": 0,
      "outputs": []
    },
    {
      "cell_type": "code",
      "metadata": {
        "id": "mEh6wiSxNL5s",
        "colab_type": "code",
        "colab": {
          "base_uri": "https://localhost:8080/",
          "height": 51
        },
        "outputId": "03c6cc81-5549-4f2e-ae25-a6d40dc3df69"
      },
      "source": [
        "thresh=4\n",
        "\n",
        "cnt=0\n",
        "tot_cnt=0\n",
        "freq=0\n",
        "tot_freq=0\n",
        "\n",
        "for key,value in x_tokenizer.word_counts.items():\n",
        "    tot_cnt=tot_cnt+1\n",
        "    tot_freq=tot_freq+value\n",
        "    if(value<thresh):\n",
        "        cnt=cnt+1\n",
        "        freq=freq+value\n",
        "    \n",
        "print(\"% of rare words in vocabulary:\",(cnt/tot_cnt)*100)\n",
        "print(\"Total Coverage of rare words:\",(freq/tot_freq)*100)"
      ],
      "execution_count": 20,
      "outputs": [
        {
          "output_type": "stream",
          "text": [
            "% of rare words in vocabulary: 66.12339930151339\n",
            "Total Coverage of rare words: 2.953684513790566\n"
          ],
          "name": "stdout"
        }
      ]
    },
    {
      "cell_type": "code",
      "metadata": {
        "id": "5B0q3jCIFJ3m",
        "colab_type": "code",
        "colab": {}
      },
      "source": [
        ""
      ],
      "execution_count": 0,
      "outputs": []
    },
    {
      "cell_type": "code",
      "metadata": {
        "id": "eIUKfoP6NQi5",
        "colab_type": "code",
        "colab": {}
      },
      "source": [
        "#prepare a tokenizer for reviews on training data\n",
        "x_tokenizer = Tokenizer(num_words=tot_cnt-cnt) \n",
        "x_tokenizer.fit_on_texts(list(x_tr))\n",
        "\n",
        "#convert text sequences into integer sequences\n",
        "x_tr_seq    =   x_tokenizer.texts_to_sequences(x_tr) \n",
        "x_val_seq   =   x_tokenizer.texts_to_sequences(x_val)\n",
        "\n",
        "#padding zero upto maximum length\n",
        "x_tr    =   pad_sequences(x_tr_seq,  maxlen=max_text_len, padding='post')\n",
        "x_val   =   pad_sequences(x_val_seq, maxlen=max_text_len, padding='post')\n",
        "\n",
        "#size of vocabulary ( +1 for padding token)\n",
        "x_voc   =  x_tokenizer.num_words + 1"
      ],
      "execution_count": 0,
      "outputs": []
    },
    {
      "cell_type": "code",
      "metadata": {
        "id": "tqixQKh4Ncxb",
        "colab_type": "code",
        "colab": {
          "base_uri": "https://localhost:8080/",
          "height": 34
        },
        "outputId": "288b3781-8e1c-4415-b501-dcea875b318a"
      },
      "source": [
        "type(x_tr)"
      ],
      "execution_count": 61,
      "outputs": [
        {
          "output_type": "execute_result",
          "data": {
            "text/plain": [
              "numpy.ndarray"
            ]
          },
          "metadata": {
            "tags": []
          },
          "execution_count": 61
        }
      ]
    },
    {
      "cell_type": "code",
      "metadata": {
        "id": "oDFWYb7CNf6q",
        "colab_type": "code",
        "colab": {}
      },
      "source": [
        "#prepare a tokenizer for reviews on training data\n",
        "y_tokenizer = Tokenizer()   \n",
        "y_tokenizer.fit_on_texts(list(y_tr))"
      ],
      "execution_count": 0,
      "outputs": []
    },
    {
      "cell_type": "code",
      "metadata": {
        "id": "cstGntyFNiLs",
        "colab_type": "code",
        "colab": {
          "base_uri": "https://localhost:8080/",
          "height": 51
        },
        "outputId": "31a6a5c1-81f5-4a3f-a26a-92ea8461715e"
      },
      "source": [
        "thresh=6\n",
        "\n",
        "cnt=0\n",
        "tot_cnt=0\n",
        "freq=0\n",
        "tot_freq=0\n",
        "\n",
        "for key,value in y_tokenizer.word_counts.items():\n",
        "    tot_cnt=tot_cnt+1\n",
        "    tot_freq=tot_freq+value\n",
        "    if(value<thresh):\n",
        "        cnt=cnt+1\n",
        "        freq=freq+value\n",
        "    \n",
        "print(\"% of rare words in vocabulary:\",(cnt/tot_cnt)*100)\n",
        "print(\"Total Coverage of rare words:\",(freq/tot_freq)*100)"
      ],
      "execution_count": 24,
      "outputs": [
        {
          "output_type": "stream",
          "text": [
            "% of rare words in vocabulary: 78.12740675541863\n",
            "Total Coverage of rare words: 5.3921899389571895\n"
          ],
          "name": "stdout"
        }
      ]
    },
    {
      "cell_type": "code",
      "metadata": {
        "id": "7MfW484INnlZ",
        "colab_type": "code",
        "colab": {}
      },
      "source": [
        "#prepare a tokenizer for reviews on training data\n",
        "y_tokenizer = Tokenizer(num_words=tot_cnt-cnt) \n",
        "y_tokenizer.fit_on_texts(list(y_tr))\n",
        "\n",
        "#convert text sequences into integer sequences\n",
        "y_tr_seq    =   y_tokenizer.texts_to_sequences(y_tr) \n",
        "y_val_seq   =   y_tokenizer.texts_to_sequences(y_val) \n",
        "\n",
        "#padding zero upto maximum length\n",
        "y_tr    =   pad_sequences(y_tr_seq, maxlen=max_summary_len, padding='post')\n",
        "y_val   =   pad_sequences(y_val_seq, maxlen=max_summary_len, padding='post')\n",
        "\n",
        "#size of vocabulary\n",
        "y_voc  =   y_tokenizer.num_words +1"
      ],
      "execution_count": 0,
      "outputs": []
    },
    {
      "cell_type": "code",
      "metadata": {
        "id": "V1j1ocg0NrJS",
        "colab_type": "code",
        "colab": {
          "base_uri": "https://localhost:8080/",
          "height": 34
        },
        "outputId": "c687750b-3191-417e-cee8-91bc81d63091"
      },
      "source": [
        "y_tokenizer.word_counts['sostok'],len(y_tr)   "
      ],
      "execution_count": 26,
      "outputs": [
        {
          "output_type": "execute_result",
          "data": {
            "text/plain": [
              "(42453, 42453)"
            ]
          },
          "metadata": {
            "tags": []
          },
          "execution_count": 26
        }
      ]
    },
    {
      "cell_type": "code",
      "metadata": {
        "id": "SQzbHFf-Nteb",
        "colab_type": "code",
        "colab": {}
      },
      "source": [
        "ind=[]\n",
        "for i in range(len(y_tr)):\n",
        "    cnt=0\n",
        "    for j in y_tr[i]:\n",
        "        if j!=0:\n",
        "            cnt=cnt+1\n",
        "    if(cnt==2):\n",
        "        ind.append(i)\n",
        "\n",
        "y_tr=np.delete(y_tr,ind, axis=0)\n",
        "x_tr=np.delete(x_tr,ind, axis=0)"
      ],
      "execution_count": 0,
      "outputs": []
    },
    {
      "cell_type": "code",
      "metadata": {
        "id": "GyPOK9MBNyPU",
        "colab_type": "code",
        "colab": {}
      },
      "source": [
        "ind=[]\n",
        "for i in range(len(y_val)):\n",
        "    cnt=0\n",
        "    for j in y_val[i]:\n",
        "        if j!=0:\n",
        "            cnt=cnt+1\n",
        "    if(cnt==2):\n",
        "        ind.append(i)\n",
        "\n",
        "y_val=np.delete(y_val,ind, axis=0)\n",
        "x_val=np.delete(x_val,ind, axis=0)"
      ],
      "execution_count": 0,
      "outputs": []
    },
    {
      "cell_type": "code",
      "metadata": {
        "id": "81mZEEVBN1Yc",
        "colab_type": "code",
        "colab": {
          "base_uri": "https://localhost:8080/",
          "height": 663
        },
        "outputId": "239a57a4-0689-41fc-bc8e-e75ee3878328"
      },
      "source": [
        "from keras import backend as K \n",
        "K.clear_session()\n",
        "\n",
        "latent_dim = 300\n",
        "embedding_dim=100\n",
        "\n",
        "# Encoder\n",
        "encoder_inputs = Input(shape=(max_text_len,))\n",
        "\n",
        "#embedding layer\n",
        "enc_emb =  Embedding(x_voc, embedding_dim,trainable=True)(encoder_inputs)\n",
        "\n",
        "#encoder lstm 1\n",
        "encoder_lstm1 = LSTM(latent_dim,return_sequences=True,return_state=True,dropout=0.4,recurrent_dropout=0.4)\n",
        "encoder_output1, state_h1, state_c1 = encoder_lstm1(enc_emb)\n",
        "\n",
        "#encoder lstm 2\n",
        "encoder_lstm2 = LSTM(latent_dim,return_sequences=True,return_state=True,dropout=0.4,recurrent_dropout=0.4)\n",
        "encoder_output2, state_h2, state_c2 = encoder_lstm2(encoder_output1)\n",
        "\n",
        "#encoder lstm 3\n",
        "encoder_lstm3=LSTM(latent_dim, return_state=True, return_sequences=True,dropout=0.4,recurrent_dropout=0.4)\n",
        "encoder_outputs, state_h, state_c= encoder_lstm3(encoder_output2)\n",
        "\n",
        "# Set up the decoder, using `encoder_states` as initial state.\n",
        "decoder_inputs = Input(shape=(None,))\n",
        "\n",
        "#embedding layer\n",
        "dec_emb_layer = Embedding(y_voc, embedding_dim,trainable=True)\n",
        "dec_emb = dec_emb_layer(decoder_inputs)\n",
        "\n",
        "decoder_lstm = LSTM(latent_dim, return_sequences=True, return_state=True,dropout=0.4,recurrent_dropout=0.2)\n",
        "decoder_outputs,decoder_fwd_state, decoder_back_state = decoder_lstm(dec_emb,initial_state=[state_h, state_c])\n",
        "\n",
        "# Attention layer\n",
        "attn_layer = AttentionLayer(name='attention_layer')\n",
        "attn_out, attn_states = attn_layer([encoder_outputs, decoder_outputs])\n",
        "\n",
        "# Concat attention input and decoder LSTM output\n",
        "decoder_concat_input = Concatenate(axis=-1, name='concat_layer')([decoder_outputs, attn_out])\n",
        "\n",
        "#dense layer\n",
        "decoder_dense =  TimeDistributed(Dense(y_voc, activation='softmax'))\n",
        "decoder_outputs = decoder_dense(decoder_concat_input)\n",
        "\n",
        "# Define the model \n",
        "model = Model([encoder_inputs, decoder_inputs], decoder_outputs)\n",
        "\n",
        "model.summary() "
      ],
      "execution_count": 29,
      "outputs": [
        {
          "output_type": "stream",
          "text": [
            "WARNING:tensorflow:Layer lstm will not use cuDNN kernel since it doesn't meet the cuDNN kernel criteria. It will use generic GPU kernel as fallback when running on GPU\n",
            "WARNING:tensorflow:Layer lstm_1 will not use cuDNN kernel since it doesn't meet the cuDNN kernel criteria. It will use generic GPU kernel as fallback when running on GPU\n",
            "WARNING:tensorflow:Layer lstm_2 will not use cuDNN kernel since it doesn't meet the cuDNN kernel criteria. It will use generic GPU kernel as fallback when running on GPU\n",
            "WARNING:tensorflow:Layer lstm_3 will not use cuDNN kernel since it doesn't meet the cuDNN kernel criteria. It will use generic GPU kernel as fallback when running on GPU\n",
            "Model: \"model\"\n",
            "__________________________________________________________________________________________________\n",
            "Layer (type)                    Output Shape         Param #     Connected to                     \n",
            "==================================================================================================\n",
            "input_1 (InputLayer)            [(None, 30)]         0                                            \n",
            "__________________________________________________________________________________________________\n",
            "embedding (Embedding)           (None, 30, 100)      844000      input_1[0][0]                    \n",
            "__________________________________________________________________________________________________\n",
            "lstm (LSTM)                     [(None, 30, 300), (N 481200      embedding[0][0]                  \n",
            "__________________________________________________________________________________________________\n",
            "input_2 (InputLayer)            [(None, None)]       0                                            \n",
            "__________________________________________________________________________________________________\n",
            "lstm_1 (LSTM)                   [(None, 30, 300), (N 721200      lstm[0][0]                       \n",
            "__________________________________________________________________________________________________\n",
            "embedding_1 (Embedding)         (None, None, 100)    198900      input_2[0][0]                    \n",
            "__________________________________________________________________________________________________\n",
            "lstm_2 (LSTM)                   [(None, 30, 300), (N 721200      lstm_1[0][0]                     \n",
            "__________________________________________________________________________________________________\n",
            "lstm_3 (LSTM)                   [(None, None, 300),  481200      embedding_1[0][0]                \n",
            "                                                                 lstm_2[0][1]                     \n",
            "                                                                 lstm_2[0][2]                     \n",
            "__________________________________________________________________________________________________\n",
            "attention_layer (AttentionLayer ((None, None, 300),  180300      lstm_2[0][0]                     \n",
            "                                                                 lstm_3[0][0]                     \n",
            "__________________________________________________________________________________________________\n",
            "concat_layer (Concatenate)      (None, None, 600)    0           lstm_3[0][0]                     \n",
            "                                                                 attention_layer[0][0]            \n",
            "__________________________________________________________________________________________________\n",
            "time_distributed (TimeDistribut (None, None, 1989)   1195389     concat_layer[0][0]               \n",
            "==================================================================================================\n",
            "Total params: 4,823,389\n",
            "Trainable params: 4,823,389\n",
            "Non-trainable params: 0\n",
            "__________________________________________________________________________________________________\n"
          ],
          "name": "stdout"
        }
      ]
    },
    {
      "cell_type": "code",
      "metadata": {
        "id": "gdN3BFyaOBGE",
        "colab_type": "code",
        "colab": {}
      },
      "source": [
        "model.compile(optimizer='rmsprop', loss='sparse_categorical_crossentropy')"
      ],
      "execution_count": 0,
      "outputs": []
    },
    {
      "cell_type": "code",
      "metadata": {
        "id": "NeTblzHLOM-x",
        "colab_type": "code",
        "colab": {}
      },
      "source": [
        "es = EarlyStopping(monitor='val_loss', mode='min', verbose=1,patience=2)"
      ],
      "execution_count": 0,
      "outputs": []
    },
    {
      "cell_type": "code",
      "metadata": {
        "id": "aiW4id0wORWT",
        "colab_type": "code",
        "colab": {
          "base_uri": "https://localhost:8080/",
          "height": 646
        },
        "outputId": "3b5dca9e-067f-4969-f38a-ef5a080aa6da"
      },
      "source": [
        "history=model.fit([x_tr,y_tr[:,:-1]], y_tr.reshape(y_tr.shape[0],y_tr.shape[1], 1)[:,1:] ,epochs=50,callbacks=[es],batch_size=128, validation_data=([x_val,y_val[:,:-1]], y_val.reshape(y_val.shape[0],y_val.shape[1], 1)[:,1:]))"
      ],
      "execution_count": 33,
      "outputs": [
        {
          "output_type": "stream",
          "text": [
            "Epoch 1/50\n",
            "324/324 [==============================] - 115s 354ms/step - loss: 2.8207 - val_loss: 2.5980\n",
            "Epoch 2/50\n",
            "324/324 [==============================] - 114s 352ms/step - loss: 2.5138 - val_loss: 2.4378\n",
            "Epoch 3/50\n",
            "324/324 [==============================] - 114s 352ms/step - loss: 2.3520 - val_loss: 2.3129\n",
            "Epoch 4/50\n",
            "324/324 [==============================] - 114s 351ms/step - loss: 2.2443 - val_loss: 2.2475\n",
            "Epoch 5/50\n",
            "324/324 [==============================] - 113s 350ms/step - loss: 2.1681 - val_loss: 2.1871\n",
            "Epoch 6/50\n",
            "324/324 [==============================] - 113s 350ms/step - loss: 2.1099 - val_loss: 2.1847\n",
            "Epoch 7/50\n",
            "324/324 [==============================] - 114s 351ms/step - loss: 2.0578 - val_loss: 2.1485\n",
            "Epoch 8/50\n",
            "324/324 [==============================] - 114s 351ms/step - loss: 2.0133 - val_loss: 2.1135\n",
            "Epoch 9/50\n",
            "324/324 [==============================] - 114s 352ms/step - loss: 1.9719 - val_loss: 2.0893\n",
            "Epoch 10/50\n",
            "324/324 [==============================] - 113s 349ms/step - loss: 1.9372 - val_loss: 2.0816\n",
            "Epoch 11/50\n",
            "324/324 [==============================] - 113s 348ms/step - loss: 1.9021 - val_loss: 2.0647\n",
            "Epoch 12/50\n",
            "324/324 [==============================] - 112s 347ms/step - loss: 1.8692 - val_loss: 2.0537\n",
            "Epoch 13/50\n",
            "324/324 [==============================] - 113s 348ms/step - loss: 1.8411 - val_loss: 2.0748\n",
            "Epoch 14/50\n",
            "324/324 [==============================] - 113s 347ms/step - loss: 1.8128 - val_loss: 2.0458\n",
            "Epoch 15/50\n",
            "324/324 [==============================] - 113s 350ms/step - loss: 1.7847 - val_loss: 2.0522\n",
            "Epoch 16/50\n",
            "324/324 [==============================] - 113s 349ms/step - loss: 1.7607 - val_loss: 2.0441\n",
            "Epoch 17/50\n",
            "324/324 [==============================] - 113s 349ms/step - loss: 1.7358 - val_loss: 2.0536\n",
            "Epoch 18/50\n",
            "324/324 [==============================] - 113s 349ms/step - loss: 1.7137 - val_loss: 2.0570\n",
            "Epoch 00018: early stopping\n"
          ],
          "name": "stdout"
        }
      ]
    },
    {
      "cell_type": "code",
      "metadata": {
        "id": "IatA0SC6OVkh",
        "colab_type": "code",
        "colab": {
          "base_uri": "https://localhost:8080/",
          "height": 265
        },
        "outputId": "7a7d582c-8321-496c-b2ce-6315f658e32a"
      },
      "source": [
        "from matplotlib import pyplot\n",
        "pyplot.plot(history.history['loss'], label='train')\n",
        "pyplot.plot(history.history['val_loss'], label='test')\n",
        "pyplot.legend()\n",
        "pyplot.show()"
      ],
      "execution_count": 34,
      "outputs": [
        {
          "output_type": "display_data",
          "data": {
            "image/png": "[encoded data removed]",
            "text/plain": [
              "<Figure size 432x288 with 1 Axes>"
            ]
          },
          "metadata": {
            "tags": [],
            "needs_background": "light"
          }
        }
      ]
    },
    {
      "cell_type": "code",
      "metadata": {
        "id": "n-237yqAfl65",
        "colab_type": "code",
        "colab": {}
      },
      "source": [
        "reverse_target_word_index=y_tokenizer.index_word\n",
        "reverse_source_word_index=x_tokenizer.index_word\n",
        "target_word_index=y_tokenizer.word_index"
      ],
      "execution_count": 0,
      "outputs": []
    },
    {
      "cell_type": "code",
      "metadata": {
        "id": "nG06OGEz070I",
        "colab_type": "code",
        "colab": {}
      },
      "source": [
        "# Encode the input sequence to get the feature vector\n",
        "encoder_model = Model(inputs=encoder_inputs,outputs=[encoder_outputs, state_h, state_c])\n",
        "\n",
        "# Decoder setup\n",
        "# Below tensors will hold the states of the previous time step\n",
        "decoder_state_input_h = Input(shape=(latent_dim,))\n",
        "decoder_state_input_c = Input(shape=(latent_dim,))\n",
        "decoder_hidden_state_input = Input(shape=(max_text_len,latent_dim))\n",
        "\n",
        "# Get the embeddings of the decoder sequence\n",
        "dec_emb2= dec_emb_layer(decoder_inputs) \n",
        "# To predict the next word in the sequence, set the initial states to the states from the previous time step\n",
        "decoder_outputs2, state_h2, state_c2 = decoder_lstm(dec_emb2, initial_state=[decoder_state_input_h, decoder_state_input_c])\n",
        "\n",
        "#attention inference\n",
        "attn_out_inf, attn_states_inf = attn_layer([decoder_hidden_state_input, decoder_outputs2])\n",
        "decoder_inf_concat = Concatenate(axis=-1, name='concat')([decoder_outputs2, attn_out_inf])\n",
        "\n",
        "# A dense softmax layer to generate prob dist. over the target vocabulary\n",
        "decoder_outputs2 = decoder_dense(decoder_inf_concat) \n",
        "\n",
        "# Final decoder model\n",
        "decoder_model = Model(\n",
        "    [decoder_inputs] + [decoder_hidden_state_input,decoder_state_input_h, decoder_state_input_c],\n",
        "    [decoder_outputs2] + [state_h2, state_c2])"
      ],
      "execution_count": 0,
      "outputs": []
    },
    {
      "cell_type": "code",
      "metadata": {
        "id": "N6HnT6XA0-rm",
        "colab_type": "code",
        "colab": {}
      },
      "source": [
        "def decode_sequence(input_seq):\n",
        "    # Encode the input as state vectors.\n",
        "    e_out, e_h, e_c = encoder_model.predict(input_seq)\n",
        "    \n",
        "    # Generate empty target sequence of length 1.\n",
        "    target_seq = np.zeros((1,1))\n",
        "    \n",
        "    # Populate the first word of target sequence with the start word.\n",
        "    target_seq[0, 0] = target_word_index['sostok']\n",
        "\n",
        "    stop_condition = False\n",
        "    decoded_sentence = ''\n",
        "    while not stop_condition:\n",
        "      \n",
        "        output_tokens, h, c = decoder_model.predict([target_seq] + [e_out, e_h, e_c])\n",
        "\n",
        "        # Sample a token\n",
        "        sampled_token_index = np.argmax(output_tokens[0, -1, :])\n",
        "        sampled_token = reverse_target_word_index[sampled_token_index]\n",
        "        \n",
        "        if(sampled_token!='eostok'):\n",
        "            decoded_sentence += ' '+sampled_token\n",
        "\n",
        "        # Exit condition: either hit max length or find stop word.\n",
        "        if (sampled_token == 'eostok'  or len(decoded_sentence.split()) >= (max_summary_len-1)):\n",
        "            stop_condition = True\n",
        "\n",
        "        # Update the target sequence (of length 1).\n",
        "        target_seq = np.zeros((1,1))\n",
        "        target_seq[0, 0] = sampled_token_index\n",
        "\n",
        "        # Update internal states\n",
        "        e_h, e_c = h, c\n",
        "\n",
        "    return decoded_sentence"
      ],
      "execution_count": 0,
      "outputs": []
    },
    {
      "cell_type": "code",
      "metadata": {
        "id": "D0VDFUGZ1BGM",
        "colab_type": "code",
        "colab": {}
      },
      "source": [
        "def seq2summary(input_seq):\n",
        "    newString=''\n",
        "    for i in input_seq:\n",
        "        if((i!=0 and i!=target_word_index['sostok']) and i!=target_word_index['eostok']):\n",
        "            newString=newString+reverse_target_word_index[i]+' '\n",
        "    return newString\n",
        "\n",
        "def seq2text(input_seq):\n",
        "    newString=''\n",
        "    for i in input_seq:\n",
        "        if(i!=0):\n",
        "            newString=newString+reverse_source_word_index[i]+' '\n",
        "    return newString"
      ],
      "execution_count": 0,
      "outputs": []
    },
    {
      "cell_type": "code",
      "metadata": {
        "id": "1yyuTwJF1DbU",
        "colab_type": "code",
        "colab": {
          "base_uri": "https://localhost:8080/",
          "height": 867
        },
        "outputId": "f377567f-4afc-4dd1-85a3-57c4928e6037"
      },
      "source": [
        "for i in range(0,10):\n",
        "    print(\"Review:\",seq2text(x_tr[i]))\n",
        "    print(\"Original summary:\",seq2summary(y_tr[i]))\n",
        "    print(\"Predicted summary:\",decode_sequence(x_tr[i].reshape(1,max_text_len)))\n",
        "    print(\"\\n\")"
      ],
      "execution_count": 39,
      "outputs": [
        {
          "output_type": "stream",
          "text": [
            "Review: gave caffeine shakes heart anxiety attack plus tastes unbelievably bad stick coffee tea soda thanks \n",
            "Original summary: hour \n",
            "Predicted summary:  great product\n",
            "\n",
            "\n",
            "Review: got great course good belgian chocolates better \n",
            "Original summary: would like to give it stars but \n",
            "Predicted summary:  great candy\n",
            "\n",
            "\n",
            "Review: one best flavored coffees tried usually like flavored coffees one great serve company love \n",
            "Original summary: delicious \n",
            "Predicted summary:  great coffee\n",
            "\n",
            "\n",
            "Review: salt separate area pain makes hard regulate salt putting like salt go ahead get product \n",
            "Original summary: tastes ok packaging \n",
            "Predicted summary:  salt\n",
            "\n",
            "\n",
            "Review: really like product super easy order online delivered much cheaper buying gas station stocking good long drives \n",
            "Original summary: turkey jerky is great \n",
            "Predicted summary:  great taste and texture\n",
            "\n",
            "\n",
            "Review: best salad dressing delivered promptly quantities last vidalia onion dressing compares made oak hill farms sometimes find costco order front door want even orders cut shipping costs \n",
            "Original summary: my favorite salad dressing \n",
            "Predicted summary:  best seasoning ever\n",
            "\n",
            "\n",
            "Review: think sitting around warehouse long time took long time send got tea tasted like cardboard red rasberry leaf tea know supposed taste like \n",
            "Original summary: stale \n",
            "Predicted summary:  not so much\n",
            "\n",
            "\n",
            "Review: year old cat special diet digestive problems also diabetes stopped eating usual special formula food tried different kinds catfood one liked easy digestion diabetes thank newman \n",
            "Original summary: wonderful \n",
            "Predicted summary:  cat loves it\n",
            "\n",
            "\n",
            "Review: always perfect snack dog loves knows exactly starts ask time evening gets greenie snack thank excellent product fast delivery \n",
            "Original summary: greenies buddy treat \n",
            "Predicted summary:  great treats\n",
            "\n",
            "\n",
            "Review: dog loves tiny treats keep one car one house \n",
            "Original summary: dog loves them \n",
            "Predicted summary:  dog loves them\n",
            "\n",
            "\n"
          ],
          "name": "stdout"
        }
      ]
    },
    {
      "cell_type": "code",
      "metadata": {
        "id": "4maiDd7_1GQ_",
        "colab_type": "code",
        "colab": {
          "base_uri": "https://localhost:8080/",
          "height": 68
        },
        "outputId": "0846d543-3d57-444d-aa98-499b4792c8af"
      },
      "source": [
        ""
      ],
      "execution_count": 41,
      "outputs": [
        {
          "output_type": "stream",
          "text": [
            "[  62    1  639    2 2873  619   23    0    0    0    0    0    0    0\n",
            "    0    0    0    0    0    0    0    0    0    0    0    0    0    0\n",
            "    0    0]\n"
          ],
          "name": "stdout"
        }
      ]
    },
    {
      "cell_type": "code",
      "metadata": {
        "id": "XfhiGLAv1P22",
        "colab_type": "code",
        "colab": {}
      },
      "source": [
        "text = \"One of the best coffee shops in the neighbourhood, wide variety of flavours, good taste\""
      ],
      "execution_count": 0,
      "outputs": []
    },
    {
      "cell_type": "code",
      "metadata": {
        "id": "ojcSDfYv7McF",
        "colab_type": "code",
        "colab": {}
      },
      "source": [
        "clean = []\n",
        "clean.append(text_cleaner(text,0))"
      ],
      "execution_count": 0,
      "outputs": []
    },
    {
      "cell_type": "code",
      "metadata": {
        "id": "ph4LVFji7XMz",
        "colab_type": "code",
        "colab": {}
      },
      "source": [
        "clean = np.array(clean)"
      ],
      "execution_count": 0,
      "outputs": []
    },
    {
      "cell_type": "code",
      "metadata": {
        "id": "_4_qVBiH2Xio",
        "colab_type": "code",
        "colab": {}
      },
      "source": [
        ""
      ],
      "execution_count": 0,
      "outputs": []
    },
    {
      "cell_type": "code",
      "metadata": {
        "id": "0oQzzI3O28eX",
        "colab_type": "code",
        "colab": {}
      },
      "source": [
        "clean_seq    =   x_tokenizer.texts_to_sequences(clean) \n",
        "\n",
        "clean    =   pad_sequences(clean_seq,  maxlen=max_text_len, padding='post')"
      ],
      "execution_count": 0,
      "outputs": []
    },
    {
      "cell_type": "code",
      "metadata": {
        "id": "wUcJD8Kc-eWI",
        "colab_type": "code",
        "colab": {
          "base_uri": "https://localhost:8080/",
          "height": 68
        },
        "outputId": "00f83658-b5e8-4b4e-c33f-4da7f21851b2"
      },
      "source": [
        "clean"
      ],
      "execution_count": 122,
      "outputs": [
        {
          "output_type": "execute_result",
          "data": {
            "text/plain": [
              "array([[   9,   12,    7, 2014, 2286,  236, 2984,    2,    6,    0,    0,\n",
              "           0,    0,    0,    0,    0,    0,    0,    0,    0,    0,    0,\n",
              "           0,    0,    0,    0,    0,    0,    0,    0]], dtype=int32)"
            ]
          },
          "metadata": {
            "tags": []
          },
          "execution_count": 122
        }
      ]
    },
    {
      "cell_type": "code",
      "metadata": {
        "id": "ich3iXwf9dRE",
        "colab_type": "code",
        "colab": {
          "base_uri": "https://localhost:8080/",
          "height": 51
        },
        "outputId": "6f079ecb-383e-4205-9784-dcb9687817fd"
      },
      "source": [
        "print(\"Review:\",seq2text(clean[0]))\n",
        "print(\"Predicted summary:\",decode_sequence(clean[0].reshape(1,max_text_len)))"
      ],
      "execution_count": 123,
      "outputs": [
        {
          "output_type": "stream",
          "text": [
            "Review: one best coffee shops wide variety flavours good taste \n",
            "Predicted summary:  great coffee\n"
          ],
          "name": "stdout"
        }
      ]
    },
    {
      "cell_type": "code",
      "metadata": {
        "id": "4NqkXMTA-oJk",
        "colab_type": "code",
        "colab": {}
      },
      "source": [
        ""
      ],
      "execution_count": 0,
      "outputs": []
    }
  ]
}